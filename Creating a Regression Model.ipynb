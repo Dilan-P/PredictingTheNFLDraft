{
 "cells": [
  {
   "cell_type": "code",
   "execution_count": 10,
   "metadata": {},
   "outputs": [],
   "source": [
    "import pandas as pd\n",
    "import numpy as np\n",
    "import matplotlib.pyplot as plt\n",
    "from sklearn.model_selection import train_test_split\n",
    "from sklearn.linear_model import LinearRegression, LogisticRegression\n",
    "from sklearn import metrics\n",
    "import mord\n",
    "\n",
    "dataFrame = pd.read_csv(\"NFLDraftDataCleaned.csv\")"
   ]
  },
  {
   "cell_type": "code",
   "execution_count": 11,
   "metadata": {},
   "outputs": [],
   "source": [
    "#Create new dataframes to hold independent and dependent variables\n",
    "X = dataFrame[['position', 'age', 'height', 'weight', 'collegeAttended', 'rushingAttempts', 'rushingYards',\n",
    "                           'avgYardsPerRush', 'rushingTouchdowns', 'receptions', 'receivingYards', 'avgYardsPerReception',\n",
    "                           'receivingTouchdowns', 'fortyYardDash', 'verticalJump', 'benchPress', 'broadJump', 'threeCone',\n",
    "                           'shuttle']]\n",
    "# X = dataFrame[['age', 'height', 'weight', 'rushingAttempts', 'rushingYards',\n",
    "#                            'avgYardsPerRush', 'rushingTouchdowns', 'receptions', 'receivingYards', 'avgYardsPerReception',\n",
    "#                            'receivingTouchdowns', 'fortyYardDash', 'verticalJump', 'benchPress', 'broadJump', 'threeCone',\n",
    "#                            'shuttle']]\n",
    "y = dataFrame[['draftRound']]"
   ]
  },
  {
   "cell_type": "code",
   "execution_count": 12,
   "metadata": {},
   "outputs": [],
   "source": [
    "#Some of the dependent variables (position and collegeAttended) are stored as categorical data\n",
    "#This needs to be converted to numerical data using OneHotEncoder\n",
    "onehot = pd.get_dummies(X['position'])\n",
    "X = X.drop('position', axis = 1)\n",
    "X = X.join(onehot)\n",
    "\n",
    "onehot = pd.get_dummies(X['collegeAttended'])\n",
    "X = X.drop('collegeAttended', axis = 1)\n",
    "X = X.join(onehot)"
   ]
  },
  {
   "cell_type": "code",
   "execution_count": 13,
   "metadata": {
    "scrolled": true
   },
   "outputs": [],
   "source": [
    "#Split the dataset into some training data and testing data\n",
    "#2016 draft data starts at row 794 out of 936\n",
    "X_Train, X_Test, y_Train, y_Test = train_test_split(X, y, test_size = 0.15, shuffle = False)"
   ]
  },
  {
   "cell_type": "code",
   "execution_count": 14,
   "metadata": {
    "scrolled": true
   },
   "outputs": [
    {
     "name": "stdout",
     "output_type": "stream",
     "text": [
      "LINEAR REGRESSION SCORES:\n",
      "Explained variance score =  0.020009293140500484\n",
      "Mean absolute error =  1.49645390070922\n",
      "R Squared =  -0.12811465412092704\n",
      "F1 score =  0.23404255319148937\n",
      "\n",
      "Confusion Matrix:\n",
      "[[ 4  7  3  1  0  1  0]\n",
      " [ 5  4  4  4  0  0  0]\n",
      " [ 2  2  6  7  3  0  0]\n",
      " [ 1  5  7 12  4  0  1]\n",
      " [ 0  3  7  8  5  2  0]\n",
      " [ 2  0  4  3  3  1  0]\n",
      " [ 0  3  5  6  5  0  1]]\n"
     ]
    }
   ],
   "source": [
    "#Create a linear regression model and fit it to the train data\n",
    "linearModel = LinearRegression().fit(X_Train, y_Train)\n",
    "\n",
    "#Predict the draft round for the test set\n",
    "unformattedPredictions = linearModel.predict(X_Test)\n",
    "\n",
    "linearPredictions = []\n",
    "\n",
    "#There are some errors with our predictions, they are giving wildly higher scores\n",
    "for prediction in unformattedPredictions:\n",
    "    if(prediction < 1.5):\n",
    "        linearPredictions.append(1)\n",
    "    if(prediction >= 1.5 and prediction < 2.5):\n",
    "        linearPredictions.append(2)\n",
    "    if(prediction >= 2.5 and prediction < 3.5):\n",
    "        linearPredictions.append(3)\n",
    "    if(prediction >= 3.5 and prediction < 4.5):\n",
    "        linearPredictions.append(4)\n",
    "    if(prediction >= 4.5 and prediction < 5.5):\n",
    "        linearPredictions.append(5)\n",
    "    if(prediction >= 5.5 and prediction < 6.5):\n",
    "        linearPredictions.append(6)\n",
    "    if(prediction >= 6.5):\n",
    "        linearPredictions.append(7)   \n",
    "        \n",
    "print(\"LINEAR REGRESSION SCORES:\")\n",
    "explainedVarianceScore = metrics.explained_variance_score(y_Test, linearPredictions)\n",
    "print(\"Explained variance score = \", explainedVarianceScore)\n",
    "\n",
    "meanAbsoluteError = metrics.mean_absolute_error(y_Test, linearPredictions)\n",
    "print(\"Mean absolute error = \", meanAbsoluteError)\n",
    "\n",
    "rSquared = metrics.r2_score(y_Test, linearPredictions)\n",
    "print(\"R Squared = \", rSquared)\n",
    "\n",
    "f1Score = metrics.f1_score(y_Test, linearPredictions, average=\"micro\")\n",
    "print(\"F1 score = \", f1Score)\n",
    "\n",
    "print()\n",
    "print('Confusion Matrix:')\n",
    "print(metrics.confusion_matrix(y_Test, linearPredictions))"
   ]
  },
  {
   "cell_type": "code",
   "execution_count": 21,
   "metadata": {
    "scrolled": false
   },
   "outputs": [
    {
     "name": "stdout",
     "output_type": "stream",
     "text": [
      "ORDINAL LOGISTIC REGRESSION SCORES:\n",
      "Explained variance score =  0.06299006795608975\n",
      "Mean absolute error =  1.4539007092198581\n",
      "RSquared =  -0.06259801359121808\n",
      "F1 score =  0.24113475177304963\n",
      "\n",
      "Confusion Matrix:\n",
      "[[ 0  0  0  0  0  0  0  0]\n",
      " [ 1  1  6  6  1  0  1  0]\n",
      " [ 1  2  4  7  3  0  0  0]\n",
      " [ 0  2  2  6  8  2  0  0]\n",
      " [ 0  0  4  7 15  3  1  0]\n",
      " [ 0  0  3  7  9  6  0  0]\n",
      " [ 0  1  1  2  6  2  1  0]\n",
      " [ 0  0  3  5  5  6  0  1]]\n"
     ]
    }
   ],
   "source": [
    "#Create an ordinal logistic regression model and fit it to the training data\n",
    "ordinalModel = mord.OrdinalRidge()\n",
    "ordinalModel.fit(X_Train, y_Train)\n",
    "\n",
    "#Create some predictions based on the ordinal logistic regression model\n",
    "ordinalPredictions = ordinalModel.predict(X_Test)\n",
    "\n",
    "print(\"ORDINAL LOGISTIC REGRESSION SCORES:\")\n",
    "explainedVarianceScore = metrics.explained_variance_score(y_Test, ordinalPredictions)\n",
    "print(\"Explained variance score = \", explainedVarianceScore)\n",
    "\n",
    "meanAbsoluteError = metrics.mean_absolute_error(y_Test, ordinalPredictions)\n",
    "print(\"Mean absolute error = \", meanAbsoluteError)\n",
    "\n",
    "rSquared = metrics.r2_score(y_Test, ordinalPredictions)\n",
    "print(\"RSquared = \", rSquared)\n",
    "\n",
    "f1Score = metrics.f1_score(y_Test, ordinalPredictions, average=\"micro\")\n",
    "print(\"F1 score = \", f1Score)\n",
    "\n",
    "print()\n",
    "print('Confusion Matrix:')\n",
    "print(metrics.confusion_matrix(y_Test, ordinalPredictions))"
   ]
  },
  {
   "cell_type": "code",
   "execution_count": 16,
   "metadata": {
    "scrolled": true
   },
   "outputs": [
    {
     "name": "stderr",
     "output_type": "stream",
     "text": [
      "/anaconda3/lib/python3.7/site-packages/sklearn/utils/validation.py:761: DataConversionWarning: A column-vector y was passed when a 1d array was expected. Please change the shape of y to (n_samples, ), for example using ravel().\n",
      "  y = column_or_1d(y, warn=True)\n"
     ]
    },
    {
     "name": "stdout",
     "output_type": "stream",
     "text": [
      "MULTINOMIAL LOGISTIC REGRESSION SCORES:\n",
      "Explained variance score =  -0.32055526514491484\n",
      "Mean absolute error =  1.872340425531915\n",
      "RSquared =  -0.6133472730440845\n",
      "F1 score =  0.14184397163120568\n",
      "\n",
      "Confusion Matrix:\n",
      "[[9 2 2 1 1 0 1]\n",
      " [8 3 5 1 0 0 0]\n",
      " [7 4 3 3 3 0 0]\n",
      " [5 5 7 3 3 6 1]\n",
      " [6 1 5 8 1 1 3]\n",
      " [2 1 3 2 3 1 1]\n",
      " [1 7 2 4 3 3 0]]\n"
     ]
    },
    {
     "name": "stderr",
     "output_type": "stream",
     "text": [
      "/anaconda3/lib/python3.7/site-packages/sklearn/utils/optimize.py:203: ConvergenceWarning: newton-cg failed to converge. Increase the number of iterations.\n",
      "  \"number of iterations.\", ConvergenceWarning)\n"
     ]
    }
   ],
   "source": [
    "#Create an multinominal logistic regression model and fit it to the training data\n",
    "logisticModel = LogisticRegression(solver = \"newton-cg\", multi_class = \"multinomial\", max_iter = 100)\n",
    "logisticModel.fit(X_Train, y_Train)\n",
    "\n",
    "#Create some predictions based on the ordinal logistic regression model\n",
    "logisticPredictions = logisticModel.predict(X_Test)\n",
    "\n",
    "print(\"MULTINOMIAL LOGISTIC REGRESSION SCORES:\")\n",
    "explainedVarianceScore = metrics.explained_variance_score(y_Test, logisticPredictions)\n",
    "print(\"Explained variance score = \", explainedVarianceScore)\n",
    "\n",
    "meanAbsoluteError = metrics.mean_absolute_error(y_Test, logisticPredictions)\n",
    "print(\"Mean absolute error = \", meanAbsoluteError)\n",
    "\n",
    "rSquared = metrics.r2_score(y_Test, logisticPredictions)\n",
    "print(\"RSquared = \", rSquared)\n",
    "\n",
    "f1Score = metrics.f1_score(y_Test, logisticPredictions, average=\"micro\")\n",
    "print(\"F1 score = \", f1Score)\n",
    "\n",
    "print()\n",
    "print('Confusion Matrix:')\n",
    "print(metrics.confusion_matrix(y_Test, logisticPredictions))"
   ]
  },
  {
   "cell_type": "code",
   "execution_count": 46,
   "metadata": {},
   "outputs": [
    {
     "data": {
      "image/png": "[encoded data removed]",
      "text/plain": [
       "<Figure size 432x288 with 1 Axes>"
      ]
     },
     "metadata": {
      "needs_background": "light"
     },
     "output_type": "display_data"
    }
   ],
   "source": [
    "#Try create a ROC curve for the ordinal logistic regression model\n",
    "false_positive_rate1, true_positive_rate1, thresholds = metrics.roc_curve(y_Test, ordinalPredictions, pos_label = 1)\n",
    "false_positive_rate2, true_positive_rate2, thresholds = metrics.roc_curve(y_Test, ordinalPredictions, pos_label = 1)\n",
    "roc_auc = metrics.auc(false_positive_rate, true_positive_rate)\n",
    "\n",
    "##Plot the FPR vs. TPR\n",
    "plt.title('Receiver Operating Characteristic (LOGISTIC)')\n",
    "plt.plot(false_positive_rate, true_positive_rate, 'b',\n",
    "label='AUC = %0.2f'% roc_auc)\n",
    "plt.legend(loc='lower right')\n",
    "plt.plot([0,1],[0,1],'r--')\n",
    "plt.xlim([-0.1,1.2])\n",
    "plt.ylim([-0.1,1.2])\n",
    "plt.ylabel('True Positive Rate')\n",
    "plt.xlabel('False Positive Rate')\n",
    "plt.show()\n"
   ]
  }
 ],
 "metadata": {
  "kernelspec": {
   "display_name": "Python 3",
   "language": "python",
   "name": "python3"
  },
  "language_info": {
   "codemirror_mode": {
    "name": "ipython",
    "version": 3
   },
   "file_extension": ".py",
   "mimetype": "text/x-python",
   "name": "python",
   "nbconvert_exporter": "python",
   "pygments_lexer": "ipython3",
   "version": "3.7.1"
  }
 },
 "nbformat": 4,
 "nbformat_minor": 2
}
