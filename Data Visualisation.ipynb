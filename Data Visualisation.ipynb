{
 "cells": [
  {
   "cell_type": "code",
   "execution_count": 4,
   "metadata": {},
   "outputs": [],
   "source": [
    "import pandas as pd\n",
    "import numpy as np\n",
    "import matplotlib as plt\n",
    "\n",
    "dataFrame = pd.read_csv(\"NFLDraftDataCleaned.csv\")"
   ]
  },
  {
   "cell_type": "code",
   "execution_count": 5,
   "metadata": {},
   "outputs": [],
   "source": [
    "#Produce a summary statistics table about all the numerical values in the dataFrame\n",
    "statisticalTable = dataFrame.describe().to_excel(r'Data Visualisation/Summary Statistics Table.xlsx', index=None, header=True)"
   ]
  },
  {
   "cell_type": "code",
   "execution_count": 6,
   "metadata": {},
   "outputs": [
    {
     "ename": "AttributeError",
     "evalue": "module 'matplotlib' has no attribute 'figure'",
     "output_type": "error",
     "traceback": [
      "\u001b[0;31m---------------------------------------------------------------------------\u001b[0m",
      "\u001b[0;31mAttributeError\u001b[0m                            Traceback (most recent call last)",
      "\u001b[0;32m<ipython-input-6-8e0aa942d6c4>\u001b[0m in \u001b[0;36m<module>\u001b[0;34m\u001b[0m\n\u001b[1;32m      2\u001b[0m \u001b[0mfortyYardData\u001b[0m \u001b[0;34m=\u001b[0m \u001b[0mdataFrame\u001b[0m\u001b[0;34m[\u001b[0m\u001b[0;34m'fortyYardDash'\u001b[0m\u001b[0;34m]\u001b[0m\u001b[0;34m\u001b[0m\u001b[0;34m\u001b[0m\u001b[0m\n\u001b[1;32m      3\u001b[0m \u001b[0;34m\u001b[0m\u001b[0m\n\u001b[0;32m----> 4\u001b[0;31m \u001b[0mplt\u001b[0m\u001b[0;34m.\u001b[0m\u001b[0mfigure\u001b[0m\u001b[0;34m(\u001b[0m\u001b[0mfigsize\u001b[0m\u001b[0;34m=\u001b[0m\u001b[0;34m(\u001b[0m\u001b[0;36m20\u001b[0m\u001b[0;34m,\u001b[0m \u001b[0;36m10\u001b[0m\u001b[0;34m)\u001b[0m\u001b[0;34m)\u001b[0m\u001b[0;34m\u001b[0m\u001b[0;34m\u001b[0m\u001b[0m\n\u001b[0m\u001b[1;32m      5\u001b[0m \u001b[0mplt\u001b[0m\u001b[0;34m.\u001b[0m\u001b[0mhist\u001b[0m\u001b[0;34m(\u001b[0m\u001b[0mfortyYardData\u001b[0m\u001b[0;34m,\u001b[0m \u001b[0mbins\u001b[0m \u001b[0;34m=\u001b[0m \u001b[0;36m50\u001b[0m\u001b[0;34m)\u001b[0m\u001b[0;34m\u001b[0m\u001b[0;34m\u001b[0m\u001b[0m\n\u001b[1;32m      6\u001b[0m \u001b[0mplt\u001b[0m\u001b[0;34m.\u001b[0m\u001b[0mtitle\u001b[0m\u001b[0;34m(\u001b[0m\u001b[0;34m\"Overall Distribution of Forty Yard Dash Times\"\u001b[0m\u001b[0;34m)\u001b[0m\u001b[0;34m\u001b[0m\u001b[0;34m\u001b[0m\u001b[0m\n",
      "\u001b[0;31mAttributeError\u001b[0m: module 'matplotlib' has no attribute 'figure'"
     ]
    }
   ],
   "source": [
    "#Visualise data about forty yard dash\n",
    "fortyYardData = dataFrame['fortyYardDash']\n",
    "\n",
    "plt.figure(figsize=(20, 10))\n",
    "plt.hist(fortyYardData, bins = 50)\n",
    "plt.title(\"Overall Distribution of Forty Yard Dash Times\")\n",
    "plt.xlabel(\"Forty Yard Dash Time (seconds)\")\n",
    "plt.ylabel(\"Frequency\")\n",
    "plt.savefig(\"Data Visualisation/Forty Yard Dash Histogram.png\")\n",
    "plt.show"
   ]
  },
  {
   "cell_type": "code",
   "execution_count": null,
   "metadata": {},
   "outputs": [],
   "source": [
    "#Visualise data about the vertical jump\n",
    "verticalJumpData = dataFrame['verticalJump']\n",
    "\n",
    "plt.figure(figsize=(20, 10))\n",
    "plt.hist(verticalJumpData, bins = 25)\n",
    "plt.title(\"Overall Distribution of Vertical Jump Distance\")\n",
    "plt.xlabel(\"Vertical Jump Height (inches)\")\n",
    "plt.ylabel(\"Frequency\")\n",
    "plt.savefig(\"Data Visualisation/Vertical Jump Histogram.png\")\n",
    "plt.show"
   ]
  },
  {
   "cell_type": "code",
   "execution_count": null,
   "metadata": {},
   "outputs": [],
   "source": [
    "#Visualise data about the bench press\n",
    "benchPressData = dataFrame['benchPress']\n",
    "\n",
    "plt.figure(figsize=(20, 10))\n",
    "plt.hist(benchPressData, bins = 25)\n",
    "plt.title(\"Overall Distribution of Bench Press Reps\")\n",
    "plt.xlabel(\"Number of Bench Press Reps\")\n",
    "plt.ylabel(\"Frequency\")\n",
    "plt.savefig(\"Data Visualisation/Bench Press Histogram.png\")\n",
    "plt.show"
   ]
  },
  {
   "cell_type": "code",
   "execution_count": null,
   "metadata": {},
   "outputs": [],
   "source": [
    "#Visualise data about the broad jump\n",
    "broadJumpData = dataFrame['broadJump']\n",
    "\n",
    "plt.figure(figsize=(20, 10))\n",
    "plt.hist(broadJumpData, bins = 25)\n",
    "plt.title(\"Overall Distribution of Broad Jump Distance\")\n",
    "plt.xlabel(\"Broad Jump Distance (inches)\")\n",
    "plt.ylabel(\"Frequency\")\n",
    "plt.savefig(\"Data Visualisation/Broad Jump Histogram.png\")\n",
    "plt.show"
   ]
  },
  {
   "cell_type": "code",
   "execution_count": null,
   "metadata": {},
   "outputs": [],
   "source": [
    "#Visualise data about the three cone drill\n",
    "threeConeData = dataFrame['threeCone']\n",
    "\n",
    "plt.figure(figsize=(20, 10))\n",
    "plt.hist(threeConeData, bins = 50)\n",
    "plt.title(\"Overall Distribution of Three Cone Drill Times\")\n",
    "plt.xlabel(\"Three Cone Drill Time (seconds)\")\n",
    "plt.ylabel(\"Frequency\")\n",
    "plt.savefig(\"Data Visualisation/Three Cone Drill Histogram.png\")\n",
    "plt.show"
   ]
  },
  {
   "cell_type": "code",
   "execution_count": null,
   "metadata": {},
   "outputs": [],
   "source": [
    "#Visualise data about the shuttle drill\n",
    "shuttleData = dataFrame['shuttle']\n",
    "\n",
    "plt.figure(figsize=(20, 10))\n",
    "plt.hist(threeConeData, bins = 50)\n",
    "plt.title(\"Overall Distribution of Shuttle Drill Times\")\n",
    "plt.xlabel(\"Shuttle Drill Time (seconds)\")\n",
    "plt.ylabel(\"Frequency\")\n",
    "plt.savefig(\"Data Visualisation/Shuttle Drill Histogram.png\")\n",
    "plt.show"
   ]
  },
  {
   "cell_type": "code",
   "execution_count": null,
   "metadata": {},
   "outputs": [],
   "source": [
    "#Write a generic function which can calculate average data by position given a specific column heading\n",
    "#Will return two arrays, one containing the x-axis data (i.e. all positions) and the other containing y-axis\n",
    "#data (i.e. associated averages for each position)\n",
    "def getAverageGroupedPosition(columnHeading):\n",
    "    positionData = [\"All Positions\"]\n",
    "    averageData = []\n",
    "    \n",
    "    #Get the overall average column value for all players in the data set\n",
    "    average = dataFrame[columnHeading].mean()\n",
    "    averageData.append(average)\n",
    "    \n",
    "    #Get the average for that column grouped by position\n",
    "    positions = dataFrame.position.unique()\n",
    "    for position in positions:\n",
    "        tempDataFrame = dataFrame[dataFrame['position'] == position]\n",
    "        average = tempDataFrame[columnHeading].mean()\n",
    "        positionData.append(position)\n",
    "        averageData.append(average)\n",
    "    \n",
    "    return(positionData, averageData)\n",
    "\n",
    "#Write a function which can calculate standard deviation by position given a specific column heading\n",
    "#Will return two arrays, one containing the x-axis data (i.e. all positions) and the other containing y-axis\n",
    "#data (i.e. associated standard deviations for each position)\n",
    "def getStandardDeviationGroupedPosition(columnHeading):\n",
    "    positionData = [\"All Positions\"]\n",
    "    deviationData = []\n",
    "    \n",
    "    #Get the overall average column value for all players in the data set\n",
    "    deviation = dataFrame[columnHeading].std()\n",
    "    deviationData.append(deviation)\n",
    "    \n",
    "    #Get the average for that column grouped by position\n",
    "    positions = dataFrame.position.unique()\n",
    "    for position in positions:\n",
    "        tempDataFrame = dataFrame[dataFrame['position'] == position]\n",
    "        deviation = tempDataFrame[columnHeading].std()\n",
    "        positionData.append(position)\n",
    "        deviationData.append(deviation)\n",
    "        \n",
    "    return(positionData, deviationData)"
   ]
  },
  {
   "cell_type": "code",
   "execution_count": null,
   "metadata": {},
   "outputs": [],
   "source": [
    "#Retrieve data on each positions average forty yard time\n",
    "(positionData, averageFortyYardData) = getAverageGroupedPosition(\"fortyYardDash\")\n",
    "(positionData, deviationFortyYardData) = getStandardDeviationGroupedPosition(\"fortyYardDash\")\n",
    "\n",
    "#Plot the data on a bar chart\n",
    "plt.figure(figsize = (20,10))\n",
    "plt.bar(positionData, averageFortyYardData, yerr = deviationFortyYardData)\n",
    "plt.ylim(bottom = 4, top = 5.5)\n",
    "plt.yticks(np.arange(4, 5.5, step = 0.1))\n",
    "plt.title(\"Average Forty Yard Dash Time by Position\")\n",
    "plt.xlabel(\"Position\")\n",
    "plt.ylabel(\"Forty Yard Dash Time (seconds)\")\n",
    "plt.savefig(\"Data Visualisation/Forty Yard Dash Bar Chart.png\")\n",
    "plt.show"
   ]
  },
  {
   "cell_type": "code",
   "execution_count": null,
   "metadata": {},
   "outputs": [],
   "source": [
    "#Retrieve data on each positions average vertical jump time\n",
    "(positionData, averageVerticalJumpData) = getAverageGroupedPosition(\"verticalJump\")\n",
    "(positionData, deviationVerticalJumpData) = getStandardDeviationGroupedPosition(\"verticalJump\")\n",
    "\n",
    "#Plot the data on a bar chart\n",
    "plt.figure(figsize = (20,10))\n",
    "plt.bar(positionData, averageVerticalJumpData, yerr = deviationVerticalJumpData)\n",
    "plt.ylim(bottom = 25, top = 40)\n",
    "plt.yticks(np.arange(24, 40, step = 0.5))\n",
    "plt.title(\"Average Vertical Jump Height by Position\")\n",
    "plt.xlabel(\"Position\")\n",
    "plt.ylabel(\"Vertical Jump (inches)\")\n",
    "plt.savefig(\"Data Visualisation/Vertical Jump Bar Chart.png\")\n",
    "plt.show"
   ]
  },
  {
   "cell_type": "code",
   "execution_count": null,
   "metadata": {},
   "outputs": [],
   "source": [
    "#Retrieve data on each positions average bench press\n",
    "(positionData, averageBenchPressData) = getAverageGroupedPosition(\"benchPress\")\n",
    "(positionData, deviationBenchPressData) = getStandardDeviationGroupedPosition(\"benchPress\")\n",
    "\n",
    "#Plot the data on a bar chart\n",
    "plt.figure(figsize = (20,10))\n",
    "plt.bar(positionData, averageBenchPressData, yerr = deviationBenchPressData)\n",
    "plt.ylim(bottom = 10, top = 27)\n",
    "plt.yticks(np.arange(10, 27, step = 1))\n",
    "plt.title(\"Average Number of Bench Press Reps per Position\")\n",
    "plt.xlabel(\"Position\")\n",
    "plt.ylabel(\"Number of Reps\")\n",
    "plt.savefig(\"Data Visualisation/Bench Press Bar Chart.png\")\n",
    "plt.show"
   ]
  },
  {
   "cell_type": "code",
   "execution_count": null,
   "metadata": {},
   "outputs": [],
   "source": [
    "#Retrieve data on each positions average broad jump distance\n",
    "(positionData, averageBroadJumpData) = getAverageGroupedPosition(\"broadJump\")\n",
    "(positionData, deviationBroadJumpData) = getStandardDeviationGroupedPosition(\"broadJump\")\n",
    "\n",
    "#Plot the data on a bar chart\n",
    "plt.figure(figsize = (20,10))\n",
    "plt.bar(positionData, averageBroadJumpData, yerr = deviationBroadJumpData)\n",
    "plt.ylim(bottom = 95, top = 135)\n",
    "plt.yticks(np.arange(95, 135, step = 2.5))\n",
    "plt.title(\"Average Broad Jump Distance per Position\")\n",
    "plt.xlabel(\"Position\")\n",
    "plt.ylabel(\"Broad Jump Distance (inches)\")\n",
    "plt.savefig(\"Data Visualisation/Broad Jump Bar Chart.png\")\n",
    "plt.show"
   ]
  },
  {
   "cell_type": "code",
   "execution_count": null,
   "metadata": {},
   "outputs": [],
   "source": [
    "#Retrieve data on each positions average three cone drill time\n",
    "(positionData, averageThreeConeData) = getAverageGroupedPosition(\"threeCone\")\n",
    "(positionData, deviationThreeConeData) = getStandardDeviationGroupedPosition(\"threeCone\")\n",
    "\n",
    "#Plot the data on a bar chart\n",
    "plt.figure(figsize = (20,10))\n",
    "plt.bar(positionData, averageThreeConeData, yerr = deviationThreeConeData)\n",
    "plt.ylim(bottom = 6, top = 8)\n",
    "plt.yticks(np.arange(6, 8, step = 0.1))\n",
    "plt.title(\"Average Three Cone Drill Speed per Position\")\n",
    "plt.xlabel(\"Position\")\n",
    "plt.ylabel(\"Three Cone Drill Time (seconds)\")\n",
    "plt.savefig(\"Data Visualisation/Three Cone Drill Bar Chart.png\")\n",
    "plt.show"
   ]
  },
  {
   "cell_type": "code",
   "execution_count": null,
   "metadata": {},
   "outputs": [],
   "source": [
    "#Retrieve data on each positions average forty yard time\n",
    "(positionData, averageShuttleData) = getAverageGroupedPosition(\"shuttle\")\n",
    "(positionData, deviationShuttleData) = getStandardDeviationGroupedPosition(\"shuttle\")\n",
    "\n",
    "#Plot the data on a bar chart\n",
    "plt.figure(figsize = (20,10))\n",
    "plt.bar(positionData, averageShuttleData, yerr = deviationShuttleData)\n",
    "plt.ylim(bottom = 3, top = 5)\n",
    "plt.yticks(np.arange(3, 5, step = 0.1))\n",
    "plt.title(\"Average Shuttle Drill Speed per Position\")\n",
    "plt.xlabel(\"Position\")\n",
    "plt.ylabel(\"Shuttle Drill Time (seconds)\")\n",
    "plt.savefig(\"Data Visualisation/Shuttle Drill Bar Chart.png\")\n",
    "plt.show"
   ]
  }
 ],
 "metadata": {
  "kernelspec": {
   "display_name": "Python 3",
   "language": "python",
   "name": "python3"
  },
  "language_info": {
   "codemirror_mode": {
    "name": "ipython",
    "version": 3
   },
   "file_extension": ".py",
   "mimetype": "text/x-python",
   "name": "python",
   "nbconvert_exporter": "python",
   "pygments_lexer": "ipython3",
   "version": "3.7.1"
  }
 },
 "nbformat": 4,
 "nbformat_minor": 2
}
