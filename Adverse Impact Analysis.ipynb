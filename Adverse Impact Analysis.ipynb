{
 "cells": [
  {
   "cell_type": "code",
   "execution_count": 2,
   "metadata": {},
   "outputs": [],
   "source": [
    "import pandas as pd\n",
    "import numpy as np\n",
    "\n",
    "dataFrame = pd.read_csv(\"NFLDraftDataCleaned.csv\")"
   ]
  },
  {
   "cell_type": "code",
   "execution_count": null,
   "metadata": {},
   "outputs": [],
   "source": [
    "#Create training and test datasets to fit our regression models\n",
    "#Split our dataFrame into independent and dependent variables\n",
    "X = dataFrame[['position', 'age', 'height', 'weight', 'collegeAttended', 'rushingAttempts', 'rushingYards',\n",
    "                           'avgYardsPerRush', 'rushingTouchdowns', 'receptions', 'receivingYards', 'avgYardsPerReception',\n",
    "                           'receivingTouchdowns', 'fortyYardDash', 'verticalJump', 'benchPress', 'broadJump', 'threeCone',\n",
    "                           'shuttle']]\n",
    "# X = dataFrame[['age', 'height', 'weight', 'rushingAttempts', 'rushingYards',\n",
    "#                            'avgYardsPerRush', 'rushingTouchdowns', 'receptions', 'receivingYards', 'avgYardsPerReception',\n",
    "#                            'receivingTouchdowns', 'fortyYardDash', 'verticalJump', 'benchPress', 'broadJump', 'threeCone',\n",
    "#                            'shuttle']]\n",
    "y = dataFrame[['draftRound']]\n",
    "\n",
    "#Encode collegeAttended and position as numerical data (using OneHotEncoder)\n",
    "onehot = pd.get_dummies(X['position'])\n",
    "X = X.drop('position', axis = 1)\n",
    "X = X.join(onehot)\n",
    "\n",
    "onehot = pd.get_dummies(X['collegeAttended'])\n",
    "X = X.drop('collegeAttended', axis = 1)\n",
    "X = X.join(onehot)\n",
    "\n",
    "#Split the dataset randomly into training and test data\n",
    "X_Train, X_Test, y_Train, y_Test = train_test_split(X, y, test_size = 0.15, shuffle = False)"
   ]
  },
  {
   "cell_type": "code",
   "execution_count": null,
   "metadata": {},
   "outputs": [],
   "source": [
    "##LINEAR REGRESSION MODEL##\n",
    "linearModel = LinearRegression.fit(X_Train, y_Train)\n",
    "\n",
    "unformattedPredictions = linearModel.predict(x)\n"
   ]
  }
 ],
 "metadata": {
  "kernelspec": {
   "display_name": "Python 3",
   "language": "python",
   "name": "python3"
  },
  "language_info": {
   "codemirror_mode": {
    "name": "ipython",
    "version": 3
   },
   "file_extension": ".py",
   "mimetype": "text/x-python",
   "name": "python",
   "nbconvert_exporter": "python",
   "pygments_lexer": "ipython3",
   "version": "3.7.1"
  }
 },
 "nbformat": 4,
 "nbformat_minor": 2
}
